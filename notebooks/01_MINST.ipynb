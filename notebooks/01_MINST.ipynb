{
  "cells": [
    {
      "cell_type": "markdown",
      "metadata": {
        "id": "view-in-github",
        "colab_type": "text"
      },
      "source": [
        "<a href=\"https://colab.research.google.com/github/antahiap/dsr-nlp/blob/main/notebooks/01_MINST.ipynb\" target=\"_parent\"><img src=\"https://colab.research.google.com/assets/colab-badge.svg\" alt=\"Open In Colab\"/></a>"
      ]
    },
    {
      "cell_type": "markdown",
      "source": [
        "- Runtime setting for T4"
      ],
      "metadata": {
        "id": "Qo8A1IT7YEBT"
      }
    },
    {
      "cell_type": "code",
      "execution_count": 1,
      "metadata": {
        "id": "Tr9kRMxfVuQO"
      },
      "outputs": [],
      "source": [
        "import tensorflow_datasets as tfds\n",
        "import numpy as np\n",
        "import matplotlib.pyplot as plt\n",
        "import tensorflow as tf\n",
        "from tensorflow.keras import models, layers"
      ]
    },
    {
      "cell_type": "code",
      "source": [
        "(dataset_train_original, dataset_validate_original, dataset_test_original), info = tfds.load(    # unonomus variable\n",
        "            \"mnist\",\n",
        "            split=[\"train\", \"test[:50%]\",  \"test[50%:]\"],\n",
        "            as_supervised=True, # not activeated, the data will be as dict, now as tuple\n",
        "            with_info =True    #\n",
        ")\n",
        "info"
      ],
      "metadata": {
        "id": "WUdNnwxuWbek",
        "outputId": "84e21ee6-7578-47e3-8a79-84a6c6ed7f54",
        "colab": {
          "base_uri": "https://localhost:8080/"
        }
      },
      "execution_count": 2,
      "outputs": [
        {
          "output_type": "execute_result",
          "data": {
            "text/plain": [
              "tfds.core.DatasetInfo(\n",
              "    name='mnist',\n",
              "    full_name='mnist/3.0.1',\n",
              "    description=\"\"\"\n",
              "    The MNIST database of handwritten digits.\n",
              "    \"\"\",\n",
              "    homepage='http://yann.lecun.com/exdb/mnist/',\n",
              "    data_path='/root/tensorflow_datasets/mnist/3.0.1',\n",
              "    file_format=tfrecord,\n",
              "    download_size=11.06 MiB,\n",
              "    dataset_size=21.00 MiB,\n",
              "    features=FeaturesDict({\n",
              "        'image': Image(shape=(28, 28, 1), dtype=uint8),\n",
              "        'label': ClassLabel(shape=(), dtype=int64, num_classes=10),\n",
              "    }),\n",
              "    supervised_keys=('image', 'label'),\n",
              "    disable_shuffling=False,\n",
              "    splits={\n",
              "        'test': <SplitInfo num_examples=10000, num_shards=1>,\n",
              "        'train': <SplitInfo num_examples=60000, num_shards=1>,\n",
              "    },\n",
              "    citation=\"\"\"@article{lecun2010mnist,\n",
              "      title={MNIST handwritten digit database},\n",
              "      author={LeCun, Yann and Cortes, Corinna and Burges, CJ},\n",
              "      journal={ATT Labs [Online]. Available: http://yann.lecun.com/exdb/mnist},\n",
              "      volume={2},\n",
              "      year={2010}\n",
              "    }\"\"\",\n",
              ")"
            ]
          },
          "metadata": {},
          "execution_count": 2
        }
      ]
    },
    {
      "cell_type": "markdown",
      "source": [
        "- how many data per claas for \"training\" a DL, 10k and transfer learning around 1k (deppending on the model)\n",
        "- if little data, skip validation and keep test, validation leak into the training\n",
        "- test set to evalute how good model perform on unseen data and not overfit to seen data\n",
        "- validation, use during training to evaluate the performance of the model during the training and save the best model.\n",
        "- kfault cross validation and data leakage is not a problem with LLMs\n",
        "- good aplit, 70,10, 20, train-valid-test.\n",
        "- if don't randomize the train data, shuffle, we will overfit on the order of the data\n",
        "- `.take` with shuffle goes with uniform probability selection, without is just the first ones\n",
        "- `.shuffle` increasing the number will make it to break due to error, try to maximize as long as the memory don't collapse"
      ],
      "metadata": {
        "id": "mEM3tq6cYUkJ"
      }
    },
    {
      "cell_type": "code",
      "source": [
        "!nvidia-smi"
      ],
      "metadata": {
        "colab": {
          "base_uri": "https://localhost:8080/"
        },
        "id": "xGHRtwmshpVY",
        "outputId": "c7345e7d-bc46-4bcb-93ef-46915cf3d701"
      },
      "execution_count": 3,
      "outputs": [
        {
          "output_type": "stream",
          "name": "stdout",
          "text": [
            "Mon Aug  7 13:54:05 2023       \n",
            "+-----------------------------------------------------------------------------+\n",
            "| NVIDIA-SMI 525.105.17   Driver Version: 525.105.17   CUDA Version: 12.0     |\n",
            "|-------------------------------+----------------------+----------------------+\n",
            "| GPU  Name        Persistence-M| Bus-Id        Disp.A | Volatile Uncorr. ECC |\n",
            "| Fan  Temp  Perf  Pwr:Usage/Cap|         Memory-Usage | GPU-Util  Compute M. |\n",
            "|                               |                      |               MIG M. |\n",
            "|===============================+======================+======================|\n",
            "|   0  Tesla T4            Off  | 00000000:00:04.0 Off |                    0 |\n",
            "| N/A   65C    P0    31W /  70W |    389MiB / 15360MiB |      2%      Default |\n",
            "|                               |                      |                  N/A |\n",
            "+-------------------------------+----------------------+----------------------+\n",
            "                                                                               \n",
            "+-----------------------------------------------------------------------------+\n",
            "| Processes:                                                                  |\n",
            "|  GPU   GI   CI        PID   Type   Process name                  GPU Memory |\n",
            "|        ID   ID                                                   Usage      |\n",
            "|=============================================================================|\n",
            "+-----------------------------------------------------------------------------+\n"
          ]
        }
      ]
    },
    {
      "cell_type": "code",
      "source": [
        "for x, y in dataset_train_original.shuffle(6000).take(2): # Chaining pattern\n",
        "  plt.imshow(x, cmap=\"gray\") # \"inferno\")\n",
        "  plt.title(f\"Label: {y}\")\n",
        "  plt.show()"
      ],
      "metadata": {
        "id": "_wLUAjkHaYqi",
        "outputId": "56b984f1-210c-4f62-a670-cc103528f6c3",
        "colab": {
          "base_uri": "https://localhost:8080/",
          "height": 887
        }
      },
      "execution_count": 4,
      "outputs": [
        {
          "output_type": "display_data",
          "data": {
            "text/plain": [
              "<Figure size 640x480 with 1 Axes>"
            ],
            "image/png": "[encoded data removed]"
          },
          "metadata": {}
        },
        {
          "output_type": "display_data",
          "data": {
            "text/plain": [
              "<Figure size 640x480 with 1 Axes>"
            ],
            "image/png": "[encoded data removed]"
          },
          "metadata": {}
        }
      ]
    },
    {
      "cell_type": "markdown",
      "source": [
        "- minibatch-GD, good to smoothen the loss curve, keep power 2, due to better distribution\n",
        "- including all, will too smooth the loss curve\n"
      ],
      "metadata": {
        "id": "uhX9ruOojLEZ"
      }
    },
    {
      "cell_type": "code",
      "source": [
        "def encode(image, label):\n",
        "  image = tf.image.convert_image_dtype(image, tf.float32) # normalisation and the data type,\n",
        "                                                          # float 32 as GPU is developed for it, if using float64 it will down cast\n",
        "  return image, label\n",
        "\n",
        "dataset = dataset_train_original.map(lambda image, label:encode(image, label))  # lmbda, anonymus function\n",
        "\n",
        "for image, label in dataset.take(1):\n",
        "  plt.imshow(image, cmap=\"gray\")\n",
        "  plt.title(f'Label: {label}')\n",
        "  plt.show()\n",
        "  print(image.dtype)"
      ],
      "metadata": {
        "id": "DRBoeKIQ3AQ5",
        "outputId": "5b592760-b8f9-4f0d-8ace-25ef34df9143",
        "colab": {
          "base_uri": "https://localhost:8080/",
          "height": 469
        }
      },
      "execution_count": 5,
      "outputs": [
        {
          "output_type": "display_data",
          "data": {
            "text/plain": [
              "<Figure size 640x480 with 1 Axes>"
            ],
            "image/png": "[encoded data removed]"
          },
          "metadata": {}
        },
        {
          "output_type": "stream",
          "name": "stdout",
          "text": [
            "<dtype: 'float32'>\n"
          ]
        }
      ]
    },
    {
      "cell_type": "code",
      "source": [
        "# Data set for training\n",
        "# - shuffle,\n",
        "# - normalize,\n",
        "# - batch\n",
        "\n",
        "dataset_train = dataset_train_original.map(lambda x, y: encode(x, y)).shuffle(60_000).batch(128)\n",
        "\n",
        "for x, y in dataset_train.take(1):\n",
        "  print(x.shape)\n",
        "  print(y.shape)"
      ],
      "metadata": {
        "id": "6SY5DRAs68rT",
        "outputId": "561429fa-78db-463e-a3fc-507b3269d0d0",
        "colab": {
          "base_uri": "https://localhost:8080/"
        }
      },
      "execution_count": 6,
      "outputs": [
        {
          "output_type": "stream",
          "name": "stdout",
          "text": [
            "(128, 28, 28, 1)\n",
            "(128,)\n"
          ]
        }
      ]
    },
    {
      "cell_type": "code",
      "source": [
        "\n",
        "dataset_train = dataset_train_original.map(lambda x, y: encode(x, y)).cache().shuffle(60_000).batch(128) # adding cache to make it faster, depending on the encoding function\n",
        "\n",
        "dataset_validate = dataset_validate_original.map(lambda x, y: encode(x, y)).cache().batch(128)           # using batch for parallelisation\n",
        "\n",
        "dataset_test = dataset_test_original.map(lambda x, y:encode(x, y))\n",
        "dataset_test = dataset_test.cache()\n",
        "dataset_test = dataset_test.batch(128)"
      ],
      "metadata": {
        "id": "dPOazaEc70ro"
      },
      "execution_count": 7,
      "outputs": []
    },
    {
      "cell_type": "markdown",
      "source": [
        "# Model\n",
        "Here the 1st output is None, to make it work with batch size."
      ],
      "metadata": {
        "id": "XtseIShV-5SN"
      }
    },
    {
      "cell_type": "code",
      "source": [
        "model = models.Sequential()\n",
        "model.add(layers.Flatten(input_shape=(28, 28, 1)))\n",
        "model.add(layers.Dense(64, activation=\"relu\"))\n",
        "model.summary()"
      ],
      "metadata": {
        "id": "lwHKfKJT-7ZS",
        "outputId": "b39d15ab-6cec-4e21-e626-852c54855a87",
        "colab": {
          "base_uri": "https://localhost:8080/"
        }
      },
      "execution_count": 8,
      "outputs": [
        {
          "output_type": "stream",
          "name": "stdout",
          "text": [
            "Model: \"sequential\"\n",
            "_________________________________________________________________\n",
            " Layer (type)                Output Shape              Param #   \n",
            "=================================================================\n",
            " flatten (Flatten)           (None, 784)               0         \n",
            "                                                                 \n",
            " dense (Dense)               (None, 64)                50240     \n",
            "                                                                 \n",
            "=================================================================\n",
            "Total params: 50,240\n",
            "Trainable params: 50,240\n",
            "Non-trainable params: 0\n",
            "_________________________________________________________________\n"
          ]
        }
      ]
    },
    {
      "cell_type": "markdown",
      "source": [
        "## Activation\n",
        "- tanh from -1 to 1\n",
        "- Diff of softmax with sigmoid, relue:\n",
        "  - softmax ensure that the sum of value is 1 > distribution of probability\n",
        "  - if binary classification, using softmax, will always predict 1 with accuracy of 50%, better to use sigmoid.\n",
        "\n",
        "- tanh is a bit more expensive than sigmoid\n",
        "- tanh might be good for regression, driving steering wheel."
      ],
      "metadata": {
        "id": "ORoFBjCQCo4P"
      }
    },
    {
      "cell_type": "code",
      "source": [
        "model = models.Sequential()\n",
        "model.add(layers.Flatten(input_shape=(28, 28, 1)))\n",
        "model.add(layers.Dense(64, activation=\"relu\"))\n",
        "model.add(layers.Dense(10, activation='softmax'))\n",
        "model.summary()"
      ],
      "metadata": {
        "id": "1mcodVZnBGZ1",
        "outputId": "b7e181bc-7541-4ea9-9a5d-5ef6369c1b19",
        "colab": {
          "base_uri": "https://localhost:8080/"
        }
      },
      "execution_count": 9,
      "outputs": [
        {
          "output_type": "stream",
          "name": "stdout",
          "text": [
            "Model: \"sequential_1\"\n",
            "_________________________________________________________________\n",
            " Layer (type)                Output Shape              Param #   \n",
            "=================================================================\n",
            " flatten_1 (Flatten)         (None, 784)               0         \n",
            "                                                                 \n",
            " dense_1 (Dense)             (None, 64)                50240     \n",
            "                                                                 \n",
            " dense_2 (Dense)             (None, 10)                650       \n",
            "                                                                 \n",
            "=================================================================\n",
            "Total params: 50,890\n",
            "Trainable params: 50,890\n",
            "Non-trainable params: 0\n",
            "_________________________________________________________________\n"
          ]
        }
      ]
    },
    {
      "cell_type": "markdown",
      "source": [
        "# Evaluate Model"
      ],
      "metadata": {
        "id": "rYVhk5v6EIhz"
      }
    },
    {
      "cell_type": "code",
      "source": [
        "model.compile(\n",
        "    optimizer = \"adam\",\n",
        "    loss = \"sparse_categorical_crossentropy\",   # smae as nllloss in pytorch\n",
        "    metrics=['accuracy']                        # good for communication\n",
        ")"
      ],
      "metadata": {
        "id": "lzqU2cAfEtsF"
      },
      "execution_count": 10,
      "outputs": []
    },
    {
      "cell_type": "code",
      "source": [
        "loss, accuracy = model.evaluate(dataset_train)\n",
        "loss, accuracy"
      ],
      "metadata": {
        "id": "5oLwkAhXELZ9",
        "outputId": "d2df0dd5-ab88-42bc-aff3-7df8c09a5378",
        "colab": {
          "base_uri": "https://localhost:8080/"
        }
      },
      "execution_count": 11,
      "outputs": [
        {
          "output_type": "stream",
          "name": "stdout",
          "text": [
            "469/469 [==============================] - 4s 2ms/step - loss: 2.3992 - accuracy: 0.1005\n"
          ]
        },
        {
          "output_type": "execute_result",
          "data": {
            "text/plain": [
              "(2.3991570472717285, 0.10045000165700912)"
            ]
          },
          "metadata": {},
          "execution_count": 11
        }
      ]
    },
    {
      "cell_type": "code",
      "source": [
        "for x_batch, y_batch in dataset_train.take(1):\n",
        "  prediction = model.predict(x_batch, verbose=0)\n",
        "  index=0\n",
        "  plt.plot(prediction[index])\n",
        "  y_batch_onehot = tf.keras.utils.to_categorical(y_batch)\n",
        "  plt.plot(y_batch_onehot[index])"
      ],
      "metadata": {
        "id": "X_iEEhH0N7sy",
        "outputId": "cdbbb0ad-09a6-44f9-e431-c44926751da3",
        "colab": {
          "base_uri": "https://localhost:8080/",
          "height": 430
        }
      },
      "execution_count": 12,
      "outputs": [
        {
          "output_type": "display_data",
          "data": {
            "text/plain": [
              "<Figure size 640x480 with 1 Axes>"
            ],
            "image/png": "[encoded data removed]"
          },
          "metadata": {}
        }
      ]
    },
    {
      "cell_type": "code",
      "source": [
        "history = model.fit(\n",
        "    dataset_train,\n",
        "    epochs=50,\n",
        "    validation_data=dataset_validate\n",
        ")"
      ],
      "metadata": {
        "id": "qbVuBWwjO4U9",
        "outputId": "9c6fd7a3-b248-4243-800a-985ae02248ca",
        "colab": {
          "base_uri": "https://localhost:8080/"
        }
      },
      "execution_count": null,
      "outputs": [
        {
          "output_type": "stream",
          "name": "stdout",
          "text": [
            "Epoch 1/50\n",
            "469/469 [==============================] - 4s 6ms/step - loss: 0.4248 - accuracy: 0.8837 - val_loss: 0.2356 - val_accuracy: 0.9304\n",
            "Epoch 2/50\n",
            "469/469 [==============================] - 2s 3ms/step - loss: 0.2033 - accuracy: 0.9419 - val_loss: 0.1837 - val_accuracy: 0.9468\n",
            "Epoch 3/50\n",
            "469/469 [==============================] - 2s 3ms/step - loss: 0.1569 - accuracy: 0.9544 - val_loss: 0.1515 - val_accuracy: 0.9564\n",
            "Epoch 4/50\n",
            "469/469 [==============================] - 2s 3ms/step - loss: 0.1292 - accuracy: 0.9630 - val_loss: 0.1307 - val_accuracy: 0.9610\n",
            "Epoch 5/50\n",
            "469/469 [==============================] - 2s 3ms/step - loss: 0.1087 - accuracy: 0.9689 - val_loss: 0.1221 - val_accuracy: 0.9628\n",
            "Epoch 6/50\n",
            "469/469 [==============================] - 2s 3ms/step - loss: 0.0948 - accuracy: 0.9730 - val_loss: 0.1149 - val_accuracy: 0.9646\n",
            "Epoch 7/50\n",
            "469/469 [==============================] - 2s 4ms/step - loss: 0.0831 - accuracy: 0.9758 - val_loss: 0.1077 - val_accuracy: 0.9678\n",
            "Epoch 8/50\n",
            "469/469 [==============================] - 2s 3ms/step - loss: 0.0735 - accuracy: 0.9787 - val_loss: 0.1003 - val_accuracy: 0.9694\n",
            "Epoch 9/50\n",
            "469/469 [==============================] - 2s 4ms/step - loss: 0.0648 - accuracy: 0.9815 - val_loss: 0.1012 - val_accuracy: 0.9680\n",
            "Epoch 10/50\n",
            "469/469 [==============================] - 2s 3ms/step - loss: 0.0593 - accuracy: 0.9823 - val_loss: 0.0951 - val_accuracy: 0.9716\n",
            "Epoch 11/50\n",
            "469/469 [==============================] - 2s 3ms/step - loss: 0.0528 - accuracy: 0.9845 - val_loss: 0.1008 - val_accuracy: 0.9680\n",
            "Epoch 12/50\n",
            "469/469 [==============================] - 2s 4ms/step - loss: 0.0484 - accuracy: 0.9857 - val_loss: 0.0985 - val_accuracy: 0.9712\n",
            "Epoch 13/50\n",
            "469/469 [==============================] - 2s 4ms/step - loss: 0.0443 - accuracy: 0.9877 - val_loss: 0.1018 - val_accuracy: 0.9674\n",
            "Epoch 14/50\n",
            "469/469 [==============================] - 2s 4ms/step - loss: 0.0397 - accuracy: 0.9888 - val_loss: 0.0973 - val_accuracy: 0.9722\n",
            "Epoch 15/50\n",
            "469/469 [==============================] - 2s 3ms/step - loss: 0.0362 - accuracy: 0.9900 - val_loss: 0.1006 - val_accuracy: 0.9702\n",
            "Epoch 16/50\n",
            "469/469 [==============================] - 2s 3ms/step - loss: 0.0334 - accuracy: 0.9906 - val_loss: 0.0926 - val_accuracy: 0.9726\n",
            "Epoch 17/50\n",
            "469/469 [==============================] - 2s 3ms/step - loss: 0.0299 - accuracy: 0.9919 - val_loss: 0.0988 - val_accuracy: 0.9722\n",
            "Epoch 18/50\n",
            "469/469 [==============================] - 2s 4ms/step - loss: 0.0270 - accuracy: 0.9930 - val_loss: 0.0976 - val_accuracy: 0.9722\n",
            "Epoch 19/50\n",
            "469/469 [==============================] - 2s 4ms/step - loss: 0.0252 - accuracy: 0.9936 - val_loss: 0.0979 - val_accuracy: 0.9712\n",
            "Epoch 20/50\n",
            "469/469 [==============================] - 2s 3ms/step - loss: 0.0225 - accuracy: 0.9944 - val_loss: 0.0961 - val_accuracy: 0.9716\n",
            "Epoch 21/50\n",
            "469/469 [==============================] - 2s 3ms/step - loss: 0.0207 - accuracy: 0.9947 - val_loss: 0.1073 - val_accuracy: 0.9718\n",
            "Epoch 22/50\n",
            "469/469 [==============================] - 2s 3ms/step - loss: 0.0190 - accuracy: 0.9955 - val_loss: 0.0971 - val_accuracy: 0.9706\n",
            "Epoch 23/50\n",
            "469/469 [==============================] - 2s 3ms/step - loss: 0.0169 - accuracy: 0.9959 - val_loss: 0.1002 - val_accuracy: 0.9720\n"
          ]
        }
      ]
    },
    {
      "cell_type": "code",
      "source": [
        "history.history.keys()\n",
        "# model.history.keys()"
      ],
      "metadata": {
        "id": "tb-rLzy8PkJU"
      },
      "execution_count": null,
      "outputs": []
    },
    {
      "cell_type": "code",
      "source": [
        "def render_history(history):\n",
        "  assert isinstance(history, dict), f\"Expected dict, but got {type(history)}\"\n",
        "\n",
        "  plt.plot(history['loss'])\n",
        "  # pass\n",
        "render_history(model.history.history)"
      ],
      "metadata": {
        "id": "epaR0GFGQpVx"
      },
      "execution_count": null,
      "outputs": []
    }
  ],
  "metadata": {
    "language_info": {
      "name": "python"
    },
    "orig_nbformat": 4,
    "colab": {
      "provenance": [],
      "gpuType": "T4",
      "include_colab_link": true
    },
    "kernelspec": {
      "name": "python3",
      "display_name": "Python 3"
    },
    "accelerator": "GPU"
  },
  "nbformat": 4,
  "nbformat_minor": 0
}