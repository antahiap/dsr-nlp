{
  "cells": [
    {
      "cell_type": "markdown",
      "metadata": {
        "id": "view-in-github",
        "colab_type": "text"
      },
      "source": [
        "<a href=\"https://colab.research.google.com/github/antahiap/dsr-nlp/blob/main/notebooks/01_MINST.ipynb\" target=\"_parent\"><img src=\"https://colab.research.google.com/assets/colab-badge.svg\" alt=\"Open In Colab\"/></a>"
      ]
    },
    {
      "cell_type": "markdown",
      "source": [
        "- Runtime setting for T4"
      ],
      "metadata": {
        "id": "Qo8A1IT7YEBT"
      }
    },
    {
      "cell_type": "code",
      "execution_count": 1,
      "metadata": {
        "id": "Tr9kRMxfVuQO"
      },
      "outputs": [],
      "source": [
        "import tensorflow_datasets as tfds\n",
        "import numpy as np\n",
        "import matplotlib.pyplot as plt\n",
        "import tensorflow as tf\n",
        "from tensorflow.keras import models, layers"
      ]
    },
    {
      "cell_type": "code",
      "source": [
        "(dataset_train_original, dataset_validation_original, dataset_test_original), info = tfds.load(    # unonomus variable\n",
        "            \"mnist\",\n",
        "            split=[\"train\", \"test[:50%]\",  \"test[50%:]\"],\n",
        "            as_supervised=True, # not activeated, the data will be as dict, now as tuple\n",
        "            with_info =True    #\n",
        ")\n",
        "info"
      ],
      "metadata": {
        "id": "WUdNnwxuWbek",
        "outputId": "e46ed2ca-8902-42f7-b5c4-ee472224f5a2",
        "colab": {
          "base_uri": "https://localhost:8080/"
        }
      },
      "execution_count": 5,
      "outputs": [
        {
          "output_type": "execute_result",
          "data": {
            "text/plain": [
              "tfds.core.DatasetInfo(\n",
              "    name='mnist',\n",
              "    full_name='mnist/3.0.1',\n",
              "    description=\"\"\"\n",
              "    The MNIST database of handwritten digits.\n",
              "    \"\"\",\n",
              "    homepage='http://yann.lecun.com/exdb/mnist/',\n",
              "    data_path='/root/tensorflow_datasets/mnist/3.0.1',\n",
              "    file_format=tfrecord,\n",
              "    download_size=11.06 MiB,\n",
              "    dataset_size=21.00 MiB,\n",
              "    features=FeaturesDict({\n",
              "        'image': Image(shape=(28, 28, 1), dtype=uint8),\n",
              "        'label': ClassLabel(shape=(), dtype=int64, num_classes=10),\n",
              "    }),\n",
              "    supervised_keys=('image', 'label'),\n",
              "    disable_shuffling=False,\n",
              "    splits={\n",
              "        'test': <SplitInfo num_examples=10000, num_shards=1>,\n",
              "        'train': <SplitInfo num_examples=60000, num_shards=1>,\n",
              "    },\n",
              "    citation=\"\"\"@article{lecun2010mnist,\n",
              "      title={MNIST handwritten digit database},\n",
              "      author={LeCun, Yann and Cortes, Corinna and Burges, CJ},\n",
              "      journal={ATT Labs [Online]. Available: http://yann.lecun.com/exdb/mnist},\n",
              "      volume={2},\n",
              "      year={2010}\n",
              "    }\"\"\",\n",
              ")"
            ]
          },
          "metadata": {},
          "execution_count": 5
        }
      ]
    },
    {
      "cell_type": "markdown",
      "source": [
        "- how many data per claas for \"training\" a DL, 10k and transfer learning around 1k (deppending on the model)\n",
        "- if little data, skip validation and keep test, validation leak into the training\n",
        "- test set to evalute how good model perform on unseen data and not overfit to seen data\n",
        "- validation, use during training to evaluate the performance of the model during the training and save the best model.\n",
        "- kfault cross validation and data leakage is not a problem with LLMs\n",
        "- good aplit, 70,10, 20, train-valid-test."
      ],
      "metadata": {
        "id": "mEM3tq6cYUkJ"
      }
    },
    {
      "cell_type": "code",
      "source": [
        "for x, y in dataset_train_original.take(2):\n",
        "  plt.imshow(x, cmap=\"gray\") # \"inferno\")\n",
        "  plt.title(f\"Label: {y}\")\n",
        "  plt.show()"
      ],
      "metadata": {
        "id": "_wLUAjkHaYqi",
        "outputId": "fc830820-f2d0-44a8-f612-755fce733c25",
        "colab": {
          "base_uri": "https://localhost:8080/",
          "height": 887
        }
      },
      "execution_count": 9,
      "outputs": [
        {
          "output_type": "display_data",
          "data": {
            "text/plain": [
              "<Figure size 640x480 with 1 Axes>"
            ],
            "image/png": "[encoded data removed]"
          },
          "metadata": {}
        },
        {
          "output_type": "display_data",
          "data": {
            "text/plain": [
              "<Figure size 640x480 with 1 Axes>"
            ],
            "image/png": "[encoded data removed]"
          },
          "metadata": {}
        }
      ]
    }
  ],
  "metadata": {
    "language_info": {
      "name": "python"
    },
    "orig_nbformat": 4,
    "colab": {
      "provenance": [],
      "gpuType": "T4",
      "include_colab_link": true
    },
    "kernelspec": {
      "name": "python3",
      "display_name": "Python 3"
    },
    "accelerator": "GPU"
  },
  "nbformat": 4,
  "nbformat_minor": 0
}