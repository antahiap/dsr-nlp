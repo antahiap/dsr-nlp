{
  "cells": [
    {
      "cell_type": "markdown",
      "metadata": {
        "id": "view-in-github",
        "colab_type": "text"
      },
      "source": [
        "<a href=\"https://colab.research.google.com/github/antahiap/dsr-nlp/blob/main/notebooks/01_MINST.ipynb\" target=\"_parent\"><img src=\"https://colab.research.google.com/assets/colab-badge.svg\" alt=\"Open In Colab\"/></a>"
      ]
    },
    {
      "cell_type": "markdown",
      "metadata": {
        "id": "Qo8A1IT7YEBT"
      },
      "source": [
        "- Runtime setting for T4"
      ]
    },
    {
      "cell_type": "code",
      "execution_count": 66,
      "metadata": {
        "id": "llFeNT6wXTp8"
      },
      "outputs": [],
      "source": [
        "import tensorflow_datasets as tfds\n",
        "import numpy as np\n",
        "import matplotlib.pyplot as plt\n",
        "import tensorflow as tf\n",
        "from tensorflow.keras import models, layers\n",
        "\n"
      ]
    },
    {
      "cell_type": "code",
      "execution_count": null,
      "metadata": {
        "colab": {
          "base_uri": "https://localhost:8080/"
        },
        "id": "WUdNnwxuWbek",
        "outputId": "84e21ee6-7578-47e3-8a79-84a6c6ed7f54"
      },
      "outputs": [
        {
          "data": {
            "text/plain": [
              "tfds.core.DatasetInfo(\n",
              "    name='mnist',\n",
              "    full_name='mnist/3.0.1',\n",
              "    description=\"\"\"\n",
              "    The MNIST database of handwritten digits.\n",
              "    \"\"\",\n",
              "    homepage='http://yann.lecun.com/exdb/mnist/',\n",
              "    data_path='/root/tensorflow_datasets/mnist/3.0.1',\n",
              "    file_format=tfrecord,\n",
              "    download_size=11.06 MiB,\n",
              "    dataset_size=21.00 MiB,\n",
              "    features=FeaturesDict({\n",
              "        'image': Image(shape=(28, 28, 1), dtype=uint8),\n",
              "        'label': ClassLabel(shape=(), dtype=int64, num_classes=10),\n",
              "    }),\n",
              "    supervised_keys=('image', 'label'),\n",
              "    disable_shuffling=False,\n",
              "    splits={\n",
              "        'test': <SplitInfo num_examples=10000, num_shards=1>,\n",
              "        'train': <SplitInfo num_examples=60000, num_shards=1>,\n",
              "    },\n",
              "    citation=\"\"\"@article{lecun2010mnist,\n",
              "      title={MNIST handwritten digit database},\n",
              "      author={LeCun, Yann and Cortes, Corinna and Burges, CJ},\n",
              "      journal={ATT Labs [Online]. Available: http://yann.lecun.com/exdb/mnist},\n",
              "      volume={2},\n",
              "      year={2010}\n",
              "    }\"\"\",\n",
              ")"
            ]
          },
          "execution_count": 2,
          "metadata": {},
          "output_type": "execute_result"
        }
      ],
      "source": [
        "(dataset_train_original, dataset_validate_original, dataset_test_original), info = tfds.load(    # unonomus variable\n",
        "            \"mnist\",\n",
        "            split=[\"train\", \"test[:50%]\",  \"test[50%:]\"],\n",
        "            as_supervised=True, # not activeated, the data will be as dict, now as tuple\n",
        "            with_info =True    #\n",
        ")\n",
        "info"
      ]
    },
    {
      "cell_type": "markdown",
      "metadata": {
        "id": "mEM3tq6cYUkJ"
      },
      "source": [
        "- how many data per claas for \"training\" a DL, 10k and transfer learning around 1k (deppending on the model)\n",
        "- if little data, skip validation and keep test, validation leak into the training\n",
        "- test set to evalute how good model perform on unseen data and not overfit to seen data\n",
        "- validation, use during training to evaluate the performance of the model during the training and save the best model.\n",
        "- kfault cross validation and data leakage is not a problem with LLMs\n",
        "- good aplit, 70,10, 20, train-valid-test.\n",
        "- if don't randomize the train data, shuffle, we will overfit on the order of the data\n",
        "- `.take` with shuffle goes with uniform probability selection, without is just the first ones\n",
        "- `.shuffle` increasing the number will make it to break due to error, try to maximize as long as the memory don't collapse"
      ]
    },
    {
      "cell_type": "code",
      "execution_count": null,
      "metadata": {
        "colab": {
          "base_uri": "https://localhost:8080/"
        },
        "id": "xGHRtwmshpVY",
        "outputId": "c7345e7d-bc46-4bcb-93ef-46915cf3d701"
      },
      "outputs": [
        {
          "name": "stdout",
          "output_type": "stream",
          "text": [
            "Mon Aug  7 13:54:05 2023       \n",
            "+-----------------------------------------------------------------------------+\n",
            "| NVIDIA-SMI 525.105.17   Driver Version: 525.105.17   CUDA Version: 12.0     |\n",
            "|-------------------------------+----------------------+----------------------+\n",
            "| GPU  Name        Persistence-M| Bus-Id        Disp.A | Volatile Uncorr. ECC |\n",
            "| Fan  Temp  Perf  Pwr:Usage/Cap|         Memory-Usage | GPU-Util  Compute M. |\n",
            "|                               |                      |               MIG M. |\n",
            "|===============================+======================+======================|\n",
            "|   0  Tesla T4            Off  | 00000000:00:04.0 Off |                    0 |\n",
            "| N/A   65C    P0    31W /  70W |    389MiB / 15360MiB |      2%      Default |\n",
            "|                               |                      |                  N/A |\n",
            "+-------------------------------+----------------------+----------------------+\n",
            "                                                                               \n",
            "+-----------------------------------------------------------------------------+\n",
            "| Processes:                                                                  |\n",
            "|  GPU   GI   CI        PID   Type   Process name                  GPU Memory |\n",
            "|        ID   ID                                                   Usage      |\n",
            "|=============================================================================|\n",
            "+-----------------------------------------------------------------------------+\n"
          ]
        }
      ],
      "source": [
        "!nvidia-smi"
      ]
    },
    {
      "cell_type": "code",
      "execution_count": null,
      "metadata": {
        "colab": {
          "base_uri": "https://localhost:8080/",
          "height": 887
        },
        "id": "_wLUAjkHaYqi",
        "outputId": "56b984f1-210c-4f62-a670-cc103528f6c3"
      },
      "outputs": [
        {
          "data": {
            "image/png": "[encoded data removed]",
            "text/plain": [
              "<Figure size 640x480 with 1 Axes>"
            ]
          },
          "metadata": {},
          "output_type": "display_data"
        },
        {
          "data": {
            "image/png": "[encoded data removed]",
            "text/plain": [
              "<Figure size 640x480 with 1 Axes>"
            ]
          },
          "metadata": {},
          "output_type": "display_data"
        }
      ],
      "source": [
        "for x, y in dataset_train_original.shuffle(6000).take(2): # Chaining pattern\n",
        "  plt.imshow(x, cmap=\"gray\") # \"inferno\")\n",
        "  plt.title(f\"Label: {y}\")\n",
        "  plt.show()"
      ]
    },
    {
      "cell_type": "markdown",
      "metadata": {
        "id": "uhX9ruOojLEZ"
      },
      "source": [
        "- minibatch-GD, good to smoothen the loss curve, keep power 2, due to better distribution\n",
        "- including all, will too smooth the loss curve\n"
      ]
    },
    {
      "cell_type": "code",
      "execution_count": null,
      "metadata": {
        "colab": {
          "base_uri": "https://localhost:8080/",
          "height": 469
        },
        "id": "DRBoeKIQ3AQ5",
        "outputId": "5b592760-b8f9-4f0d-8ace-25ef34df9143"
      },
      "outputs": [
        {
          "data": {
            "image/png": "[encoded data removed]",
            "text/plain": [
              "<Figure size 640x480 with 1 Axes>"
            ]
          },
          "metadata": {},
          "output_type": "display_data"
        },
        {
          "name": "stdout",
          "output_type": "stream",
          "text": [
            "<dtype: 'float32'>\n"
          ]
        }
      ],
      "source": [
        "def encode(image, label):\n",
        "  image = tf.image.convert_image_dtype(image, tf.float32) # normalisation and the data type,\n",
        "                                                          # float 32 as GPU is developed for it, if using float64 it will down cast\n",
        "  return image, label\n",
        "\n",
        "dataset = dataset_train_original.map(lambda image, label:encode(image, label))  # lmbda, anonymus function\n",
        "\n",
        "for image, label in dataset.take(1):\n",
        "  plt.imshow(image, cmap=\"gray\")\n",
        "  plt.title(f'Label: {label}')\n",
        "  plt.show()\n",
        "  print(image.dtype)"
      ]
    },
    {
      "cell_type": "code",
      "execution_count": null,
      "metadata": {
        "colab": {
          "base_uri": "https://localhost:8080/"
        },
        "id": "6SY5DRAs68rT",
        "outputId": "561429fa-78db-463e-a3fc-507b3269d0d0"
      },
      "outputs": [
        {
          "name": "stdout",
          "output_type": "stream",
          "text": [
            "(128, 28, 28, 1)\n",
            "(128,)\n"
          ]
        }
      ],
      "source": [
        "# Data set for training\n",
        "# - shuffle,\n",
        "# - normalize,\n",
        "# - batch\n",
        "\n",
        "dataset_train = dataset_train_original.map(lambda x, y: encode(x, y)).shuffle(60_000).batch(128)\n",
        "\n",
        "for x, y in dataset_train.take(1):\n",
        "  print(x.shape)\n",
        "  print(y.shape)"
      ]
    },
    {
      "cell_type": "code",
      "execution_count": null,
      "metadata": {
        "id": "dPOazaEc70ro"
      },
      "outputs": [],
      "source": [
        "\n",
        "dataset_train = dataset_train_original.map(lambda x, y: encode(x, y)).cache().shuffle(60_000).batch(128) # adding cache to make it faster, depending on the encoding function\n",
        "\n",
        "dataset_validate = dataset_validate_original.map(lambda x, y: encode(x, y)).cache().batch(128)           # using batch for parallelisation\n",
        "\n",
        "dataset_test = dataset_test_original.map(lambda x, y:encode(x, y))\n",
        "dataset_test = dataset_test.cache()\n",
        "dataset_test = dataset_test.batch(128)"
      ]
    },
    {
      "cell_type": "markdown",
      "metadata": {
        "id": "XtseIShV-5SN"
      },
      "source": [
        "# Model\n",
        "Here the 1st output is None, to make it work with batch size."
      ]
    },
    {
      "cell_type": "code",
      "execution_count": null,
      "metadata": {
        "colab": {
          "base_uri": "https://localhost:8080/"
        },
        "id": "lwHKfKJT-7ZS",
        "outputId": "b39d15ab-6cec-4e21-e626-852c54855a87"
      },
      "outputs": [
        {
          "name": "stdout",
          "output_type": "stream",
          "text": [
            "Model: \"sequential\"\n",
            "_________________________________________________________________\n",
            " Layer (type)                Output Shape              Param #   \n",
            "=================================================================\n",
            " flatten (Flatten)           (None, 784)               0         \n",
            "                                                                 \n",
            " dense (Dense)               (None, 64)                50240     \n",
            "                                                                 \n",
            "=================================================================\n",
            "Total params: 50,240\n",
            "Trainable params: 50,240\n",
            "Non-trainable params: 0\n",
            "_________________________________________________________________\n"
          ]
        }
      ],
      "source": [
        "model = models.Sequential()\n",
        "model.add(layers.Flatten(input_shape=(28, 28, 1)))\n",
        "model.add(layers.Dense(64, activation=\"relu\"))\n",
        "model.summary()"
      ]
    },
    {
      "cell_type": "markdown",
      "metadata": {
        "id": "ORoFBjCQCo4P"
      },
      "source": [
        "## Activation\n",
        "- tanh from -1 to 1\n",
        "- Diff of softmax with sigmoid, relue:\n",
        "  - softmax ensure that the sum of value is 1 > distribution of probability\n",
        "  - if binary classification, using softmax, will always predict 1 with accuracy of 50%, better to use sigmoid.\n",
        "\n",
        "- tanh is a bit more expensive than sigmoid\n",
        "- tanh might be good for regression, driving steering wheel."
      ]
    },
    {
      "cell_type": "code",
      "execution_count": null,
      "metadata": {
        "colab": {
          "base_uri": "https://localhost:8080/"
        },
        "id": "1mcodVZnBGZ1",
        "outputId": "b7e181bc-7541-4ea9-9a5d-5ef6369c1b19"
      },
      "outputs": [
        {
          "name": "stdout",
          "output_type": "stream",
          "text": [
            "Model: \"sequential_1\"\n",
            "_________________________________________________________________\n",
            " Layer (type)                Output Shape              Param #   \n",
            "=================================================================\n",
            " flatten_1 (Flatten)         (None, 784)               0         \n",
            "                                                                 \n",
            " dense_1 (Dense)             (None, 64)                50240     \n",
            "                                                                 \n",
            " dense_2 (Dense)             (None, 10)                650       \n",
            "                                                                 \n",
            "=================================================================\n",
            "Total params: 50,890\n",
            "Trainable params: 50,890\n",
            "Non-trainable params: 0\n",
            "_________________________________________________________________\n"
          ]
        }
      ],
      "source": [
        "model = models.Sequential()\n",
        "model.add(layers.Flatten(input_shape=(28, 28, 1)))\n",
        "model.add(layers.Dense(64, activation=\"relu\"))\n",
        "model.add(layers.Dense(10, activation='softmax'))\n",
        "model.summary()"
      ]
    },
    {
      "cell_type": "markdown",
      "metadata": {
        "id": "rYVhk5v6EIhz"
      },
      "source": [
        "# Evaluate Model"
      ]
    },
    {
      "cell_type": "code",
      "execution_count": null,
      "metadata": {
        "id": "lzqU2cAfEtsF"
      },
      "outputs": [],
      "source": [
        "model.compile(\n",
        "    optimizer = \"adam\",\n",
        "    loss = \"sparse_categorical_crossentropy\",   # smae as nllloss in pytorch\n",
        "    metrics=['accuracy']                        # good for communication\n",
        ")"
      ]
    },
    {
      "cell_type": "code",
      "execution_count": null,
      "metadata": {
        "colab": {
          "base_uri": "https://localhost:8080/"
        },
        "id": "5oLwkAhXELZ9",
        "outputId": "d2df0dd5-ab88-42bc-aff3-7df8c09a5378"
      },
      "outputs": [
        {
          "name": "stdout",
          "output_type": "stream",
          "text": [
            "469/469 [==============================] - 4s 2ms/step - loss: 2.3992 - accuracy: 0.1005\n"
          ]
        },
        {
          "data": {
            "text/plain": [
              "(2.3991570472717285, 0.10045000165700912)"
            ]
          },
          "execution_count": 11,
          "metadata": {},
          "output_type": "execute_result"
        }
      ],
      "source": [
        "loss, accuracy = model.evaluate(dataset_train)\n",
        "loss, accuracy"
      ]
    },
    {
      "cell_type": "code",
      "execution_count": null,
      "metadata": {
        "colab": {
          "base_uri": "https://localhost:8080/",
          "height": 430
        },
        "id": "X_iEEhH0N7sy",
        "outputId": "cdbbb0ad-09a6-44f9-e431-c44926751da3"
      },
      "outputs": [
        {
          "data": {
            "image/png": "[encoded data removed]",
            "text/plain": [
              "<Figure size 640x480 with 1 Axes>"
            ]
          },
          "metadata": {},
          "output_type": "display_data"
        }
      ],
      "source": [
        "for x_batch, y_batch in dataset_train.take(1):\n",
        "  prediction = model.predict(x_batch, verbose=0)\n",
        "  index=0\n",
        "  plt.plot(prediction[index])\n",
        "  y_batch_onehot = tf.keras.utils.to_categorical(y_batch)\n",
        "  plt.plot(y_batch_onehot[index])"
      ]
    },
    {
      "cell_type": "code",
      "execution_count": null,
      "metadata": {
        "colab": {
          "base_uri": "https://localhost:8080/"
        },
        "id": "qbVuBWwjO4U9",
        "outputId": "9c6fd7a3-b248-4243-800a-985ae02248ca"
      },
      "outputs": [
        {
          "name": "stdout",
          "output_type": "stream",
          "text": [
            "Epoch 1/50\n",
            "469/469 [==============================] - 4s 6ms/step - loss: 0.4248 - accuracy: 0.8837 - val_loss: 0.2356 - val_accuracy: 0.9304\n",
            "Epoch 2/50\n",
            "469/469 [==============================] - 2s 3ms/step - loss: 0.2033 - accuracy: 0.9419 - val_loss: 0.1837 - val_accuracy: 0.9468\n",
            "Epoch 3/50\n",
            "469/469 [==============================] - 2s 3ms/step - loss: 0.1569 - accuracy: 0.9544 - val_loss: 0.1515 - val_accuracy: 0.9564\n",
            "Epoch 4/50\n",
            "469/469 [==============================] - 2s 3ms/step - loss: 0.1292 - accuracy: 0.9630 - val_loss: 0.1307 - val_accuracy: 0.9610\n",
            "Epoch 5/50\n",
            "469/469 [==============================] - 2s 3ms/step - loss: 0.1087 - accuracy: 0.9689 - val_loss: 0.1221 - val_accuracy: 0.9628\n",
            "Epoch 6/50\n",
            "469/469 [==============================] - 2s 3ms/step - loss: 0.0948 - accuracy: 0.9730 - val_loss: 0.1149 - val_accuracy: 0.9646\n",
            "Epoch 7/50\n",
            "469/469 [==============================] - 2s 4ms/step - loss: 0.0831 - accuracy: 0.9758 - val_loss: 0.1077 - val_accuracy: 0.9678\n",
            "Epoch 8/50\n",
            "469/469 [==============================] - 2s 3ms/step - loss: 0.0735 - accuracy: 0.9787 - val_loss: 0.1003 - val_accuracy: 0.9694\n",
            "Epoch 9/50\n",
            "469/469 [==============================] - 2s 4ms/step - loss: 0.0648 - accuracy: 0.9815 - val_loss: 0.1012 - val_accuracy: 0.9680\n",
            "Epoch 10/50\n",
            "469/469 [==============================] - 2s 3ms/step - loss: 0.0593 - accuracy: 0.9823 - val_loss: 0.0951 - val_accuracy: 0.9716\n",
            "Epoch 11/50\n",
            "469/469 [==============================] - 2s 3ms/step - loss: 0.0528 - accuracy: 0.9845 - val_loss: 0.1008 - val_accuracy: 0.9680\n",
            "Epoch 12/50\n",
            "469/469 [==============================] - 2s 4ms/step - loss: 0.0484 - accuracy: 0.9857 - val_loss: 0.0985 - val_accuracy: 0.9712\n",
            "Epoch 13/50\n",
            "469/469 [==============================] - 2s 4ms/step - loss: 0.0443 - accuracy: 0.9877 - val_loss: 0.1018 - val_accuracy: 0.9674\n",
            "Epoch 14/50\n",
            "469/469 [==============================] - 2s 4ms/step - loss: 0.0397 - accuracy: 0.9888 - val_loss: 0.0973 - val_accuracy: 0.9722\n",
            "Epoch 15/50\n",
            "469/469 [==============================] - 2s 3ms/step - loss: 0.0362 - accuracy: 0.9900 - val_loss: 0.1006 - val_accuracy: 0.9702\n",
            "Epoch 16/50\n",
            "469/469 [==============================] - 2s 3ms/step - loss: 0.0334 - accuracy: 0.9906 - val_loss: 0.0926 - val_accuracy: 0.9726\n",
            "Epoch 17/50\n",
            "469/469 [==============================] - 2s 3ms/step - loss: 0.0299 - accuracy: 0.9919 - val_loss: 0.0988 - val_accuracy: 0.9722\n",
            "Epoch 18/50\n",
            "469/469 [==============================] - 2s 4ms/step - loss: 0.0270 - accuracy: 0.9930 - val_loss: 0.0976 - val_accuracy: 0.9722\n",
            "Epoch 19/50\n",
            "469/469 [==============================] - 2s 4ms/step - loss: 0.0252 - accuracy: 0.9936 - val_loss: 0.0979 - val_accuracy: 0.9712\n",
            "Epoch 20/50\n",
            "469/469 [==============================] - 2s 3ms/step - loss: 0.0225 - accuracy: 0.9944 - val_loss: 0.0961 - val_accuracy: 0.9716\n",
            "Epoch 21/50\n",
            "469/469 [==============================] - 2s 3ms/step - loss: 0.0207 - accuracy: 0.9947 - val_loss: 0.1073 - val_accuracy: 0.9718\n",
            "Epoch 22/50\n",
            "469/469 [==============================] - 2s 3ms/step - loss: 0.0190 - accuracy: 0.9955 - val_loss: 0.0971 - val_accuracy: 0.9706\n",
            "Epoch 23/50\n",
            "469/469 [==============================] - 2s 3ms/step - loss: 0.0169 - accuracy: 0.9959 - val_loss: 0.1002 - val_accuracy: 0.9720\n",
            "Epoch 24/50\n",
            "469/469 [==============================] - 2s 3ms/step - loss: 0.0164 - accuracy: 0.9960 - val_loss: 0.1018 - val_accuracy: 0.9712\n",
            "Epoch 25/50\n",
            "469/469 [==============================] - 2s 4ms/step - loss: 0.0145 - accuracy: 0.9967 - val_loss: 0.1033 - val_accuracy: 0.9718\n",
            "Epoch 26/50\n",
            "469/469 [==============================] - 2s 4ms/step - loss: 0.0128 - accuracy: 0.9974 - val_loss: 0.1059 - val_accuracy: 0.9708\n",
            "Epoch 27/50\n",
            "469/469 [==============================] - 2s 3ms/step - loss: 0.0123 - accuracy: 0.9976 - val_loss: 0.1031 - val_accuracy: 0.9724\n",
            "Epoch 28/50\n",
            "469/469 [==============================] - 2s 3ms/step - loss: 0.0116 - accuracy: 0.9973 - val_loss: 0.1118 - val_accuracy: 0.9706\n",
            "Epoch 29/50\n",
            "469/469 [==============================] - 2s 3ms/step - loss: 0.0100 - accuracy: 0.9981 - val_loss: 0.1130 - val_accuracy: 0.9714\n",
            "Epoch 30/50\n",
            "469/469 [==============================] - 2s 3ms/step - loss: 0.0088 - accuracy: 0.9983 - val_loss: 0.1109 - val_accuracy: 0.9730\n",
            "Epoch 31/50\n",
            "469/469 [==============================] - 2s 4ms/step - loss: 0.0088 - accuracy: 0.9984 - val_loss: 0.1245 - val_accuracy: 0.9690\n",
            "Epoch 32/50\n",
            "469/469 [==============================] - 2s 4ms/step - loss: 0.0079 - accuracy: 0.9986 - val_loss: 0.1185 - val_accuracy: 0.9696\n",
            "Epoch 33/50\n",
            "469/469 [==============================] - 2s 3ms/step - loss: 0.0062 - accuracy: 0.9991 - val_loss: 0.1141 - val_accuracy: 0.9716\n",
            "Epoch 34/50\n",
            "469/469 [==============================] - 2s 3ms/step - loss: 0.0063 - accuracy: 0.9990 - val_loss: 0.1215 - val_accuracy: 0.9714\n",
            "Epoch 35/50\n",
            "469/469 [==============================] - 2s 3ms/step - loss: 0.0060 - accuracy: 0.9990 - val_loss: 0.1222 - val_accuracy: 0.9716\n",
            "Epoch 36/50\n",
            "469/469 [==============================] - 2s 3ms/step - loss: 0.0054 - accuracy: 0.9992 - val_loss: 0.1196 - val_accuracy: 0.9702\n",
            "Epoch 37/50\n",
            "469/469 [==============================] - 2s 3ms/step - loss: 0.0066 - accuracy: 0.9987 - val_loss: 0.1183 - val_accuracy: 0.9724\n",
            "Epoch 38/50\n",
            "469/469 [==============================] - 2s 4ms/step - loss: 0.0044 - accuracy: 0.9995 - val_loss: 0.1208 - val_accuracy: 0.9724\n",
            "Epoch 39/50\n",
            "469/469 [==============================] - 2s 4ms/step - loss: 0.0036 - accuracy: 0.9997 - val_loss: 0.1262 - val_accuracy: 0.9688\n",
            "Epoch 40/50\n",
            "469/469 [==============================] - 2s 3ms/step - loss: 0.0037 - accuracy: 0.9997 - val_loss: 0.1225 - val_accuracy: 0.9726\n",
            "Epoch 41/50\n",
            "469/469 [==============================] - 2s 3ms/step - loss: 0.0038 - accuracy: 0.9994 - val_loss: 0.1256 - val_accuracy: 0.9724\n",
            "Epoch 42/50\n",
            "469/469 [==============================] - 2s 3ms/step - loss: 0.0034 - accuracy: 0.9995 - val_loss: 0.1274 - val_accuracy: 0.9730\n",
            "Epoch 43/50\n",
            "469/469 [==============================] - 2s 3ms/step - loss: 0.0037 - accuracy: 0.9995 - val_loss: 0.1285 - val_accuracy: 0.9722\n",
            "Epoch 44/50\n",
            "469/469 [==============================] - 2s 4ms/step - loss: 0.0039 - accuracy: 0.9992 - val_loss: 0.1339 - val_accuracy: 0.9720\n",
            "Epoch 45/50\n",
            "469/469 [==============================] - 2s 3ms/step - loss: 0.0046 - accuracy: 0.9989 - val_loss: 0.1442 - val_accuracy: 0.9720\n",
            "Epoch 46/50\n",
            "469/469 [==============================] - 2s 3ms/step - loss: 0.0035 - accuracy: 0.9995 - val_loss: 0.1324 - val_accuracy: 0.9726\n",
            "Epoch 47/50\n",
            "469/469 [==============================] - 2s 3ms/step - loss: 0.0018 - accuracy: 0.9999 - val_loss: 0.1307 - val_accuracy: 0.9732\n",
            "Epoch 48/50\n",
            "469/469 [==============================] - 2s 3ms/step - loss: 0.0011 - accuracy: 1.0000 - val_loss: 0.1293 - val_accuracy: 0.9724\n",
            "Epoch 49/50\n",
            "469/469 [==============================] - 2s 3ms/step - loss: 0.0010 - accuracy: 1.0000 - val_loss: 0.1351 - val_accuracy: 0.9738\n",
            "Epoch 50/50\n",
            "469/469 [==============================] - 2s 4ms/step - loss: 0.0012 - accuracy: 0.9999 - val_loss: 0.1382 - val_accuracy: 0.9722\n"
          ]
        }
      ],
      "source": [
        "history = model.fit(\n",
        "    dataset_train,\n",
        "    epochs=50,\n",
        "    validation_data=dataset_validate\n",
        ")"
      ]
    },
    {
      "cell_type": "code",
      "execution_count": null,
      "metadata": {
        "colab": {
          "base_uri": "https://localhost:8080/"
        },
        "id": "tb-rLzy8PkJU",
        "outputId": "6443f00e-c965-43ae-c3de-e36fce92f0ba"
      },
      "outputs": [
        {
          "data": {
            "text/plain": [
              "dict_keys(['loss', 'accuracy', 'val_loss', 'val_accuracy'])"
            ]
          },
          "execution_count": 14,
          "metadata": {},
          "output_type": "execute_result"
        }
      ],
      "source": [
        "history.history.keys()\n",
        "# model.history.keys()"
      ]
    },
    {
      "cell_type": "code",
      "execution_count": null,
      "metadata": {
        "colab": {
          "base_uri": "https://localhost:8080/",
          "height": 843
        },
        "id": "epaR0GFGQpVx",
        "outputId": "3fc432ed-e5a7-4bf5-d46d-cb49c6d1ab38"
      },
      "outputs": [
        {
          "data": {
            "image/png": "[encoded data removed]",
            "text/plain": [
              "<Figure size 640x480 with 1 Axes>"
            ]
          },
          "metadata": {},
          "output_type": "display_data"
        },
        {
          "data": {
            "image/png": "[encoded data removed]",
            "text/plain": [
              "<Figure size 640x480 with 1 Axes>"
            ]
          },
          "metadata": {},
          "output_type": "display_data"
        }
      ],
      "source": [
        "def render_history(history):\n",
        "  assert isinstance(history, dict), f\"Expected dict, but got {type(history)}\"\n",
        "\n",
        "  plt.plot(history['loss'], label='loss')\n",
        "  plt.plot(history['val_loss'], label=\"val_loss\")\n",
        "  plt.legend()\n",
        "  plt.show()\n",
        "\n",
        "  plt.plot(history['accuracy'], label=\"accuracy\")\n",
        "  plt.plot(history['val_accuracy'], label=\"val_accuracy\")\n",
        "  plt.legend()\n",
        "\n",
        "render_history(model.history.history)"
      ]
    },
    {
      "cell_type": "code",
      "execution_count": null,
      "metadata": {
        "id": "a9vK9BQmUDRl"
      },
      "outputs": [],
      "source": [
        "model.save(\"model/model.h5\")"
      ]
    },
    {
      "cell_type": "code",
      "execution_count": null,
      "metadata": {
        "colab": {
          "base_uri": "https://localhost:8080/"
        },
        "id": "Z6DoPOQ1UZaA",
        "outputId": "e173e1e9-cfee-445d-d39d-307366584f5f"
      },
      "outputs": [
        {
          "name": "stdout",
          "output_type": "stream",
          "text": [
            "Model: \"sequential_1\"\n",
            "_________________________________________________________________\n",
            " Layer (type)                Output Shape              Param #   \n",
            "=================================================================\n",
            " flatten_1 (Flatten)         (None, 784)               0         \n",
            "                                                                 \n",
            " dense_1 (Dense)             (None, 64)                50240     \n",
            "                                                                 \n",
            " dense_2 (Dense)             (None, 10)                650       \n",
            "                                                                 \n",
            "=================================================================\n",
            "Total params: 50,890\n",
            "Trainable params: 50,890\n",
            "Non-trainable params: 0\n",
            "_________________________________________________________________\n"
          ]
        }
      ],
      "source": [
        "loaded_model = models.load_model(\"model/model.h5\")\n",
        "loaded_model.summary()"
      ]
    },
    {
      "cell_type": "code",
      "execution_count": null,
      "metadata": {
        "colab": {
          "base_uri": "https://localhost:8080/",
          "height": 430
        },
        "id": "tKqw1npVUqmd",
        "outputId": "dddaccb9-a1e6-417a-9a96-4a1bb3a05c50"
      },
      "outputs": [
        {
          "data": {
            "image/png": "[encoded data removed]",
            "text/plain": [
              "<Figure size 640x480 with 1 Axes>"
            ]
          },
          "metadata": {},
          "output_type": "display_data"
        }
      ],
      "source": [
        "for x_batch, y_batch in dataset_test.take(1):\n",
        "  prediction = model.predict(x_batch, verbose=0)\n",
        "  index=0\n",
        "  plt.plot(prediction[index])\n",
        "  y_batch_onehot = tf.keras.utils.to_categorical(y_batch)\n",
        "  plt.plot(y_batch_onehot[index])"
      ]
    },
    {
      "cell_type": "code",
      "execution_count": null,
      "metadata": {
        "colab": {
          "base_uri": "https://localhost:8080/"
        },
        "id": "iIvpXwRDU8Sb",
        "outputId": "81b41dd5-0d15-4fe2-a837-586043ccb741"
      },
      "outputs": [
        {
          "name": "stdout",
          "output_type": "stream",
          "text": [
            "40/40 [==============================] - 1s 23ms/step - loss: 0.1383 - accuracy: 0.9742\n"
          ]
        },
        {
          "data": {
            "text/plain": [
              "(0.13825443387031555, 0.9742000102996826)"
            ]
          },
          "execution_count": 27,
          "metadata": {},
          "output_type": "execute_result"
        }
      ],
      "source": [
        "loss, accuracy = model.evaluate(dataset_test)\n",
        "loss, accuracy"
      ]
    },
    {
      "cell_type": "code",
      "execution_count": null,
      "metadata": {
        "colab": {
          "base_uri": "https://localhost:8080/"
        },
        "id": "zyPwZm3LVA2y",
        "outputId": "576ba3fd-96ee-4e52-a398-c20184ae4653"
      },
      "outputs": [
        {
          "name": "stdout",
          "output_type": "stream",
          "text": [
            "/content/dsr-nlp\n",
            "On branch main\n",
            "Your branch is ahead of 'origin/main' by 1 commit.\n",
            "  (use \"git push\" to publish your local commits)\n",
            "\n",
            "nothing to commit, working tree clean\n",
            "fatal: could not read Username for 'https://github.com': No such device or address\n"
          ]
        }
      ],
      "source": [
        "%cd /content/dsr-nlp/\n",
        "!git add .\n",
        "!git config --global user.email \"antahia@yahoo.com\"\n",
        "!git config --global user.name \"Anahita\"\n",
        "!git commit -m \"Trained model\"\n",
        "!git push\n"
      ]
    },
    {
      "cell_type": "code",
      "execution_count": null,
      "metadata": {
        "colab": {
          "base_uri": "https://localhost:8080/"
        },
        "id": "PQZAAgCeZicJ",
        "outputId": "ff64f0e9-6c24-4307-9f2f-8b02c6cbe4ef"
      },
      "outputs": [
        {
          "name": "stdout",
          "output_type": "stream",
          "text": [
            "remote: Enumerating objects: 11, done.\u001b[K\n",
            "remote: Counting objects:   9% (1/11)\u001b[K\rremote: Counting objects:  18% (2/11)\u001b[K\rremote: Counting objects:  27% (3/11)\u001b[K\rremote: Counting objects:  36% (4/11)\u001b[K\rremote: Counting objects:  45% (5/11)\u001b[K\rremote: Counting objects:  54% (6/11)\u001b[K\rremote: Counting objects:  63% (7/11)\u001b[K\rremote: Counting objects:  72% (8/11)\u001b[K\rremote: Counting objects:  81% (9/11)\u001b[K\rremote: Counting objects:  90% (10/11)\u001b[K\rremote: Counting objects: 100% (11/11)\u001b[K\rremote: Counting objects: 100% (11/11), done.\u001b[K\n",
            "remote: Compressing objects:  16% (1/6)\u001b[K\rremote: Compressing objects:  33% (2/6)\u001b[K\rremote: Compressing objects:  50% (3/6)\u001b[K\rremote: Compressing objects:  66% (4/6)\u001b[K\rremote: Compressing objects:  83% (5/6)\u001b[K\rremote: Compressing objects: 100% (6/6)\u001b[K\rremote: Compressing objects: 100% (6/6), done.\u001b[K\n",
            "remote: Total 8 (delta 4), reused 0 (delta 0), pack-reused 0\u001b[K\n",
            "Unpacking objects:  12% (1/8)\rUnpacking objects:  25% (2/8)\rUnpacking objects:  37% (3/8)\rUnpacking objects:  50% (4/8)\rUnpacking objects:  62% (5/8)\rUnpacking objects:  75% (6/8)\rUnpacking objects:  87% (7/8)\rUnpacking objects: 100% (8/8)\rUnpacking objects: 100% (8/8), 1.63 KiB | 98.00 KiB/s, done.\n",
            "From https://github.com/antahiap/dsr-nlp\n",
            "   3cd85ea..aa98b5b  main       -> origin/main\n",
            "Rebasing (1/1)\r\r\u001b[KSuccessfully rebased and updated refs/heads/main.\n"
          ]
        }
      ],
      "source": [
        "!git pull --rebase\n"
      ]
    },
    {
      "cell_type": "code",
      "execution_count": null,
      "metadata": {
        "colab": {
          "base_uri": "https://localhost:8080/"
        },
        "id": "nrIqqELAY8Cq",
        "outputId": "37d91365-54a1-48a8-fa81-2af874b7f806"
      },
      "outputs": [
        {
          "name": "stdout",
          "output_type": "stream",
          "text": [
            "fatal: not a git repository (or any of the parent directories): .git\n"
          ]
        }
      ],
      "source": [
        "! git add --all"
      ]
    }
  ],
  "metadata": {
    "accelerator": "GPU",
    "colab": {
      "gpuType": "T4",
      "provenance": [],
      "include_colab_link": true
    },
    "kernelspec": {
      "display_name": "Python 3",
      "name": "python3"
    },
    "language_info": {
      "name": "python",
      "version": "3.8.17"
    },
    "orig_nbformat": 4
  },
  "nbformat": 4,
  "nbformat_minor": 0
}