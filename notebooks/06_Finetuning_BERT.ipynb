{
  "cells": [
    {
      "cell_type": "markdown",
      "metadata": {
        "id": "view-in-github",
        "colab_type": "text"
      },
      "source": [
        "<a href=\"https://colab.research.google.com/github/antahiap/dsr-nlp/blob/main/notebooks/06_Finetuning_BERT.ipynb\" target=\"_parent\"><img src=\"https://colab.research.google.com/assets/colab-badge.svg\" alt=\"Open In Colab\"/></a>"
      ]
    },
    {
      "cell_type": "code",
      "execution_count": 2,
      "metadata": {
        "id": "NnD2pq-RTv50",
        "outputId": "26189528-8102-4cd3-9529-0a24bd103ce0",
        "colab": {
          "base_uri": "https://localhost:8080/"
        }
      },
      "outputs": [
        {
          "output_type": "stream",
          "name": "stdout",
          "text": [
            "Found existing installation: transformers 4.28.0\n",
            "Uninstalling transformers-4.28.0:\n",
            "  Successfully uninstalled transformers-4.28.0\n",
            "Found existing installation: tokenizers 0.13.3\n",
            "Uninstalling tokenizers-0.13.3:\n",
            "  Successfully uninstalled tokenizers-0.13.3\n",
            "Found existing installation: datasets 2.12.0\n",
            "Uninstalling datasets-2.12.0:\n",
            "  Successfully uninstalled datasets-2.12.0\n",
            "Found existing installation: accelerate 0.19.0\n",
            "Uninstalling accelerate-0.19.0:\n",
            "  Successfully uninstalled accelerate-0.19.0\n",
            "Found existing installation: evaluate 0.4.0\n",
            "Uninstalling evaluate-0.4.0:\n",
            "  Successfully uninstalled evaluate-0.4.0\n"
          ]
        }
      ],
      "source": [
        "!pip  uninstall -y transformers tokenizers datasets accelerate evaluate\n",
        "!pip  install transformers==4.28.0 tokenizers==0.13.3 datasets==2.12.0 accelerate==0.19.0 evaluate==0.4.0"
      ]
    },
    {
      "cell_type": "code",
      "execution_count": 4,
      "metadata": {
        "id": "-KzuWTPvTv51",
        "outputId": "3fd13353-a4aa-4580-a504-9576ac394e69",
        "colab": {
          "base_uri": "https://localhost:8080/"
        }
      },
      "outputs": [
        {
          "output_type": "stream",
          "name": "stdout",
          "text": [
            "/bin/bash: line 1: nvidia-smi: command not found\n"
          ]
        }
      ],
      "source": [
        "!nvidia-smi"
      ]
    },
    {
      "cell_type": "code",
      "execution_count": null,
      "metadata": {
        "id": "RYGt-N3hTv52"
      },
      "outputs": [],
      "source": [
        "import evaluate\n",
        "import numpy as np\n",
        "import torch\n",
        "from transformers import AutoTokenizer, DataCollatorWithPadding\n",
        "from transformers import AutoModelForSequenceClassification\n",
        "from transformers import Trainer\n",
        "from transformers import TrainingArguments\n",
        "from datasets import load_dataset"
      ]
    }
  ],
  "metadata": {
    "language_info": {
      "name": "python"
    },
    "orig_nbformat": 4,
    "colab": {
      "provenance": [],
      "include_colab_link": true
    },
    "kernelspec": {
      "name": "python3",
      "display_name": "Python 3"
    },
    "accelerator": "TPU"
  },
  "nbformat": 4,
  "nbformat_minor": 0
}