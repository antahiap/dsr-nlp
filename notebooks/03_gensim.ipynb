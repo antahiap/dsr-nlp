{
  "cells": [
    {
      "cell_type": "markdown",
      "metadata": {
        "id": "view-in-github",
        "colab_type": "text"
      },
      "source": [
        "<a href=\"https://colab.research.google.com/github/antahiap/dsr-nlp/blob/main/notebooks/03_gensim.ipynb\" target=\"_parent\"><img src=\"https://colab.research.google.com/assets/colab-badge.svg\" alt=\"Open In Colab\"/></a>"
      ]
    },
    {
      "cell_type": "markdown",
      "metadata": {
        "id": "pE3YdeaO9Nlo"
      },
      "source": [
        "# Using Gensim to create word embeddings.\n",
        "\n",
        "## Dr. Tristan Behrens.\n",
        "\n",
        "In this notebook we will use Gensim to create word embeddings from a corpus.\n",
        "\n",
        "Word embedding are just fantastic. In a nutshell, they map words to vectors. And with vectors, as we all know, you can do math.\n",
        "\n",
        "- [Wikipedia: Word Embedding](https://en.wikipedia.org/wiki/Word_embedding).\n",
        "\n",
        "---\n",
        "\n",
        "Firstly, we download the corpus. We download the entire Harry Potter collection. Feel free, to use your own corpus."
      ]
    },
    {
      "cell_type": "code",
      "execution_count": null,
      "metadata": {
        "id": "UDWyeCTcGbF_",
        "outputId": "04596260-509f-44a9-c6a6-c16a122dce76",
        "colab": {
          "base_uri": "https://localhost:8080/"
        }
      },
      "outputs": [
        {
          "output_type": "stream",
          "name": "stdout",
          "text": [
            "--2023-08-09 08:34:56--  https://raw.githubusercontent.com/formcept/whiteboard/master/nbviewer/notebooks/data/harrypotter/Book%201%20-%20The%20Philosopher's%20Stone.txt\n",
            "Resolving raw.githubusercontent.com (raw.githubusercontent.com)... 185.199.108.133, 185.199.109.133, 185.199.110.133, ...\n",
            "Connecting to raw.githubusercontent.com (raw.githubusercontent.com)|185.199.108.133|:443... connected.\n",
            "HTTP request sent, awaiting response... 200 OK\n",
            "Length: 492161 (481K) [text/plain]\n",
            "Saving to: ‘Book 1 - The Philosopher's Stone.txt’\n",
            "\n",
            "Book 1 - The Philos 100%[===================>] 480.63K  --.-KB/s    in 0.04s   \n",
            "\n",
            "2023-08-09 08:34:56 (12.9 MB/s) - ‘Book 1 - The Philosopher's Stone.txt’ saved [492161/492161]\n",
            "\n",
            "--2023-08-09 08:34:56--  https://raw.githubusercontent.com/formcept/whiteboard/master/nbviewer/notebooks/data/harrypotter/Book%202%20-%20The%20Chamber%20of%20Secrets.txt\n",
            "Resolving raw.githubusercontent.com (raw.githubusercontent.com)... 185.199.108.133, 185.199.109.133, 185.199.110.133, ...\n",
            "Connecting to raw.githubusercontent.com (raw.githubusercontent.com)|185.199.108.133|:443... connected.\n",
            "HTTP request sent, awaiting response... 200 OK\n",
            "Length: 551186 (538K) [text/plain]\n",
            "Saving to: ‘Book 2 - The Chamber of Secrets.txt’\n",
            "\n",
            "Book 2 - The Chambe 100%[===================>] 538.27K  --.-KB/s    in 0.04s   \n",
            "\n",
            "2023-08-09 08:34:57 (12.6 MB/s) - ‘Book 2 - The Chamber of Secrets.txt’ saved [551186/551186]\n",
            "\n",
            "--2023-08-09 08:34:57--  https://raw.githubusercontent.com/formcept/whiteboard/master/nbviewer/notebooks/data/harrypotter/Book%203%20-%20The%20Prisoner%20of%20Azkaban.txt\n",
            "Resolving raw.githubusercontent.com (raw.githubusercontent.com)... 185.199.111.133, 185.199.109.133, 185.199.108.133, ...\n",
            "Connecting to raw.githubusercontent.com (raw.githubusercontent.com)|185.199.111.133|:443... connected.\n",
            "HTTP request sent, awaiting response... 200 OK\n",
            "Length: 702656 (686K) [text/plain]\n",
            "Saving to: ‘Book 3 - The Prisoner of Azkaban.txt’\n",
            "\n",
            "Book 3 - The Prison 100%[===================>] 686.19K  --.-KB/s    in 0.04s   \n",
            "\n",
            "2023-08-09 08:34:57 (15.3 MB/s) - ‘Book 3 - The Prisoner of Azkaban.txt’ saved [702656/702656]\n",
            "\n",
            "--2023-08-09 08:34:57--  https://raw.githubusercontent.com/formcept/whiteboard/master/nbviewer/notebooks/data/harrypotter/Book%204%20-%20The%20Goblet%20of%20Fire.txt\n",
            "Resolving raw.githubusercontent.com (raw.githubusercontent.com)... 185.199.109.133, 185.199.110.133, 185.199.111.133, ...\n",
            "Connecting to raw.githubusercontent.com (raw.githubusercontent.com)|185.199.109.133|:443... connected.\n",
            "HTTP request sent, awaiting response... 200 OK\n",
            "Length: 1226024 (1.2M) [text/plain]\n",
            "Saving to: ‘Book 4 - The Goblet of Fire.txt’\n",
            "\n",
            "Book 4 - The Goblet 100%[===================>]   1.17M  --.-KB/s    in 0.05s   \n",
            "\n",
            "2023-08-09 08:34:58 (21.3 MB/s) - ‘Book 4 - The Goblet of Fire.txt’ saved [1226024/1226024]\n",
            "\n",
            "--2023-08-09 08:34:58--  https://raw.githubusercontent.com/formcept/whiteboard/master/nbviewer/notebooks/data/harrypotter/Book%205%20-%20The%20Order%20of%20the%20Phoenix.txt\n",
            "Resolving raw.githubusercontent.com (raw.githubusercontent.com)... 185.199.108.133, 185.199.110.133, 185.199.109.133, ...\n",
            "Connecting to raw.githubusercontent.com (raw.githubusercontent.com)|185.199.108.133|:443... connected.\n",
            "HTTP request sent, awaiting response... 200 OK\n",
            "Length: 1666165 (1.6M) [text/plain]\n",
            "Saving to: ‘Book 5 - The Order of the Phoenix.txt’\n",
            "\n",
            "Book 5 - The Order  100%[===================>]   1.59M  --.-KB/s    in 0.06s   \n",
            "\n",
            "2023-08-09 08:34:58 (28.0 MB/s) - ‘Book 5 - The Order of the Phoenix.txt’ saved [1666165/1666165]\n",
            "\n",
            "--2023-08-09 08:34:58--  https://raw.githubusercontent.com/formcept/whiteboard/master/nbviewer/notebooks/data/harrypotter/Book%206%20-%20The%20Half%20Blood%20Prince.txt\n",
            "Resolving raw.githubusercontent.com (raw.githubusercontent.com)... 185.199.108.133, 185.199.109.133, 185.199.110.133, ...\n",
            "Connecting to raw.githubusercontent.com (raw.githubusercontent.com)|185.199.108.133|:443... connected.\n",
            "HTTP request sent, awaiting response... 200 OK\n",
            "Length: 1096150 (1.0M) [text/plain]\n",
            "Saving to: ‘Book 6 - The Half Blood Prince.txt’\n",
            "\n",
            "Book 6 - The Half B 100%[===================>]   1.04M  --.-KB/s    in 0.05s   \n",
            "\n",
            "2023-08-09 08:34:59 (20.1 MB/s) - ‘Book 6 - The Half Blood Prince.txt’ saved [1096150/1096150]\n",
            "\n",
            "--2023-08-09 08:34:59--  https://raw.githubusercontent.com/formcept/whiteboard/master/nbviewer/notebooks/data/harrypotter/Book%207%20-%20The%20Deathly%20Hallows.txt\n",
            "Resolving raw.githubusercontent.com (raw.githubusercontent.com)... 185.199.111.133, 185.199.109.133, 185.199.110.133, ...\n",
            "Connecting to raw.githubusercontent.com (raw.githubusercontent.com)|185.199.111.133|:443... connected.\n",
            "HTTP request sent, awaiting response... 200 OK\n",
            "Length: 1267060 (1.2M) [text/plain]\n",
            "Saving to: ‘Book 7 - The Deathly Hallows.txt’\n",
            "\n",
            "Book 7 - The Deathl 100%[===================>]   1.21M  --.-KB/s    in 0.05s   \n",
            "\n",
            "2023-08-09 08:34:59 (22.2 MB/s) - ‘Book 7 - The Deathly Hallows.txt’ saved [1267060/1267060]\n",
            "\n"
          ]
        }
      ],
      "source": [
        "!wget -nc \"https://raw.githubusercontent.com/formcept/whiteboard/master/nbviewer/notebooks/data/harrypotter/Book%201%20-%20The%20Philosopher's%20Stone.txt\"\n",
        "!wget -nc \"https://raw.githubusercontent.com/formcept/whiteboard/master/nbviewer/notebooks/data/harrypotter/Book%202%20-%20The%20Chamber%20of%20Secrets.txt\"\n",
        "!wget -nc \"https://raw.githubusercontent.com/formcept/whiteboard/master/nbviewer/notebooks/data/harrypotter/Book%203%20-%20The%20Prisoner%20of%20Azkaban.txt\"\n",
        "!wget -nc \"https://raw.githubusercontent.com/formcept/whiteboard/master/nbviewer/notebooks/data/harrypotter/Book%204%20-%20The%20Goblet%20of%20Fire.txt\"\n",
        "!wget -nc \"https://raw.githubusercontent.com/formcept/whiteboard/master/nbviewer/notebooks/data/harrypotter/Book%205%20-%20The%20Order%20of%20the%20Phoenix.txt\"\n",
        "!wget -nc \"https://raw.githubusercontent.com/formcept/whiteboard/master/nbviewer/notebooks/data/harrypotter/Book%206%20-%20The%20Half%20Blood%20Prince.txt\"\n",
        "!wget -nc \"https://raw.githubusercontent.com/formcept/whiteboard/master/nbviewer/notebooks/data/harrypotter/Book%207%20-%20The%20Deathly%20Hallows.txt\""
      ]
    },
    {
      "cell_type": "code",
      "execution_count": null,
      "metadata": {
        "id": "w7EsFY_LGkST",
        "outputId": "7a6bd2f3-c6b4-4deb-d788-6cdc95253e3a",
        "colab": {
          "base_uri": "https://localhost:8080/"
        }
      },
      "outputs": [
        {
          "output_type": "stream",
          "name": "stdout",
          "text": [
            "\"Book 1 - The Philosopher's Stone.txt\"\t'Book 5 - The Order of the Phoenix.txt'\n",
            "'Book 2 - The Chamber of Secrets.txt'\t'Book 6 - The Half Blood Prince.txt'\n",
            "'Book 3 - The Prisoner of Azkaban.txt'\t'Book 7 - The Deathly Hallows.txt'\n",
            "'Book 4 - The Goblet of Fire.txt'\t sample_data\n"
          ]
        }
      ],
      "source": [
        "!ls"
      ]
    },
    {
      "cell_type": "markdown",
      "metadata": {
        "id": "du12KNBf9eE9"
      },
      "source": [
        "## Import all necessary modules."
      ]
    },
    {
      "cell_type": "code",
      "execution_count": null,
      "metadata": {
        "id": "cPxWl1qt9b_b",
        "outputId": "28147df0-d50b-4f71-8fa7-1c5cde6805cc",
        "colab": {
          "base_uri": "https://localhost:8080/"
        }
      },
      "outputs": [
        {
          "output_type": "stream",
          "name": "stderr",
          "text": [
            "[nltk_data] Downloading package punkt to /root/nltk_data...\n",
            "[nltk_data]   Unzipping tokenizers/punkt.zip.\n"
          ]
        }
      ],
      "source": [
        "import os\n",
        "import logging\n",
        "import os\n",
        "import multiprocessing\n",
        "from gensim.models import Word2Vec\n",
        "from gensim.utils import simple_preprocess\n",
        "from nltk.tokenize import sent_tokenize\n",
        "import nltk\n",
        "nltk.download('punkt')\n",
        "import numpy as np\n",
        "import seaborn as sns\n",
        "from scipy import spatial\n",
        "import matplotlib.pyplot as plt"
      ]
    },
    {
      "cell_type": "markdown",
      "metadata": {
        "id": "chO2MMAB9pnJ"
      },
      "source": [
        "## Train Gensim.\n",
        "\n",
        "Here we feed all the text data into Gensim to train Word2Vec.\n",
        "\n",
        "- [Gensim homepage](https://radimrehurek.com/gensim/).\n",
        "- [Wikipedia: Word2Vec](https://en.wikipedia.org/wiki/Word2vec)."
      ]
    },
    {
      "cell_type": "code",
      "source": [
        "from gensim.test.utils import datapath\n",
        "from gensim import utils\n",
        "\n",
        "class MyCorpus:\n",
        "    \"\"\"An iterator that yields sentences (lists of str).\"\"\"\n",
        "\n",
        "    def __init__(self):\n",
        "        self.lines = []\n",
        "\n",
        "        files = os.listdir(\".\")\n",
        "        files = [file for file in files if file.endswith(\".txt\")]\n",
        "        print(f\"Found {len(files)} files\")\n",
        "\n",
        "        for file in files:\n",
        "            for line in open(file):\n",
        "                self.lines += [line]\n",
        "        print(f\"Got {len(self.lines)} lines.\")\n",
        "\n",
        "    def __iter__(self):\n",
        "        for line in self.lines:\n",
        "            preprocessed_line = utils.simple_preprocess(line)\n",
        "            yield preprocessed_line"
      ],
      "metadata": {
        "id": "db-sgHN0SvE0"
      },
      "execution_count": null,
      "outputs": []
    },
    {
      "cell_type": "code",
      "execution_count": null,
      "metadata": {
        "id": "v0pFRf0JGcZ0",
        "outputId": "060126f9-fbac-428f-9b0c-64709582cb9e",
        "colab": {
          "base_uri": "https://localhost:8080/"
        }
      },
      "outputs": [
        {
          "output_type": "stream",
          "name": "stdout",
          "text": [
            "Found 7 files\n",
            "Got 211035 lines.\n"
          ]
        }
      ],
      "source": [
        "import gensim.models\n",
        "\n",
        "sentences = MyCorpus()\n",
        "\n",
        "model = gensim.models.Word2Vec(\n",
        "    sentences=sentences,\n",
        "    sg=1,\n",
        "    vector_size=300,\n",
        "    window=20,\n",
        "    min_count=3,\n",
        "    workers=multiprocessing.cpu_count()\n",
        ")\n",
        "\n",
        "print(\"Done.\")"
      ]
    },
    {
      "cell_type": "markdown",
      "metadata": {
        "id": "RY4d0XOm9tyW"
      },
      "source": [
        "## Find most similar words.\n",
        "\n",
        "With vectors it is easy to find the nearest neighbours.\n",
        "\n",
        "Note: Feel free to experiment with your own words."
      ]
    },
    {
      "cell_type": "code",
      "execution_count": null,
      "metadata": {
        "id": "JQ9oSWSZGf7l"
      },
      "outputs": [],
      "source": [
        "model.wv.most_similar(\"stupefy\", topn=20)"
      ]
    },
    {
      "cell_type": "markdown",
      "metadata": {
        "id": "eyt_EaVm9wtc"
      },
      "source": [
        "## Plot word similarities.\n",
        "\n",
        "That was just one word. Let us generate a similarity matrix of a lot of words. Again, use your own."
      ]
    },
    {
      "cell_type": "code",
      "execution_count": null,
      "metadata": {
        "id": "zSh3oR5WIV-Q"
      },
      "outputs": [],
      "source": [
        "def plot_similarities(words):\n",
        "    features = [np.array(model.wv[word]) for word in words]\n",
        "\n",
        "    similarities = np.zeros((len(features), len(features)))\n",
        "    for index1, feature1 in enumerate(features):\n",
        "        for index2, feature2 in enumerate(features):\n",
        "            similarities[index1, index2] = 1 - spatial.distance.cosine(feature1, feature2)\n",
        "\n",
        "    fig, ax = plt.subplots(figsize=(12, 12))\n",
        "    g = sns.heatmap(\n",
        "        similarities,\n",
        "        annot=True,\n",
        "        xticklabels=words,\n",
        "        yticklabels=words,\n",
        "        cmap=\"inferno\"\n",
        "    )\n",
        "    g.set_xticklabels(words, rotation=90)\n",
        "    g.set_yticklabels(words, rotation=0)\n",
        "    g.set_title(\"Semantic Similarity\")\n",
        "\n",
        "words = [\n",
        "    \"harry\",\n",
        "    \"hermione\",\n",
        "    \"ron\",\n",
        "    \"fred\",\n",
        "    \"george\",\n",
        "    \"snape\",\n",
        "    \"wand\",\n",
        "    \"snitch\",\n",
        "    \"marauder\",\n",
        "    \"map\",\n",
        "    \"hogwarts\",\n",
        "    \"slytherin\",\n",
        "    \"gryffindor\",\n",
        "    \"hufflepuff\",\n",
        "    \"ravenclaw\",\n",
        "    \"voldemort\",\n",
        "    \"tom\",\n",
        "    \"horcrux\",\n",
        "    \"snake\",\n",
        "    \"nagini\",\n",
        "    \"wizard\",\n",
        "    \"witch\"\n",
        "]\n",
        "plot_similarities(words)"
      ]
    },
    {
      "cell_type": "markdown",
      "metadata": {
        "id": "hX9onfgV93w0"
      },
      "source": [
        "# Thank you!"
      ]
    }
  ],
  "metadata": {
    "colab": {
      "provenance": [],
      "gpuType": "T4",
      "include_colab_link": true
    },
    "kernelspec": {
      "display_name": "Python 3",
      "name": "python3"
    },
    "language_info": {
      "codemirror_mode": {
        "name": "ipython",
        "version": 3
      },
      "file_extension": ".py",
      "mimetype": "text/x-python",
      "name": "python",
      "nbconvert_exporter": "python",
      "pygments_lexer": "ipython3",
      "version": "3.9.7"
    },
    "accelerator": "GPU"
  },
  "nbformat": 4,
  "nbformat_minor": 0
}