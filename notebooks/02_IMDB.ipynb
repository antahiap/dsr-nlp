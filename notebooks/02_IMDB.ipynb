{
 "cells": [
  {
   "cell_type": "code",
   "execution_count": null,
   "metadata": {},
   "outputs": [],
   "source": [
    "# IMDB Datasets"
   ]
  },
  {
   "cell_type": "code",
   "execution_count": null,
   "metadata": {},
   "outputs": [],
   "source": [
    "import tensorflow_dataset as tfds\n",
    "import numpy as np\n",
    "import matplotlib.pyplot as plt\n",
    "import tensorflow as tf\n",
    "form tensorflow.keras import models, layers\n",
    "     "
   ]
  },
  {
   "cell_type": "code",
   "execution_count": null,
   "metadata": {},
   "outputs": [],
   "source": [
    "datasets, info = tfds.load(    # unonomus variable\n",
    "            \"imdb_review/plain_text\",\n",
    "            split=[\"train\", \"test[:50%]\",  \"test[50%:]\"],\n",
    "            as_supervised=True, # not activeated, the data will be as dict, now as tuple\n",
    "            with_info =True    #\n",
    ")\n",
    "\n",
    "dataset_train_original = datasets[0] \n",
    "dataset_validate_original =  datasets[1] \n",
    "dataset_test_original = datasets[2] \n",
    "info"
   ]
  },
  {
   "cell_type": "code",
   "execution_count": null,
   "metadata": {},
   "outputs": [],
   "source": [
    "# Look at your beeping data"
   ]
  }
 ],
 "metadata": {
  "language_info": {
   "name": "python"
  },
  "orig_nbformat": 4
 },
 "nbformat": 4,
 "nbformat_minor": 2
}
